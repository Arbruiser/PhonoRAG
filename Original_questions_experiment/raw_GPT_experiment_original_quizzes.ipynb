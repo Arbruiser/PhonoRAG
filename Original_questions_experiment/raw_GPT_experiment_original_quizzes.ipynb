{
 "cells": [
  {
   "cell_type": "markdown",
   "metadata": {},
   "source": [
    "### Imports"
   ]
  },
  {
   "cell_type": "code",
   "execution_count": 6,
   "metadata": {},
   "outputs": [],
   "source": [
    "import nest_asyncio; nest_asyncio.apply()\n",
    "import re\n",
    "\n",
    "import json\n",
    "import os\n",
    "from dotenv import load_dotenv\n",
    "load_dotenv()\n",
    "\n",
    "from openai import OpenAI\n",
    "client = OpenAI()"
   ]
  },
  {
   "cell_type": "markdown",
   "metadata": {},
   "source": [
    "### Function that sends questions to GPT"
   ]
  },
  {
   "cell_type": "code",
   "execution_count": 7,
   "metadata": {},
   "outputs": [],
   "source": [
    "model = \"gpt-4o\"   # very important to check the model!\n",
    "temp = 0\n",
    "system_message = r\"You're an expert in answering quiz questions about phonology. Only answer with the letter and text of the answer which you think is correct. Make sure that the answer is 100% correct because my life depends on it. Answer this question:\"\n",
    "\n",
    "def pingGPT(prompt, model=model):\n",
    "   # Creating a message as required by the API\n",
    "   messages = [{\"role\":\"system\", \"content\": system_message},\n",
    "               {\"role\": \"user\", \"content\": prompt}]\n",
    "  \n",
    "   # Calling the ChatCompletion API\n",
    "   response = client.chat.completions.create(\n",
    "       model=model,\n",
    "       messages=messages,\n",
    "       temperature=temp,\n",
    "   )\n",
    "\n",
    "   # Returning the extracted response\n",
    "   return response.choices[0].message.content"
   ]
  },
  {
   "cell_type": "markdown",
   "metadata": {},
   "source": [
    "### Open an itembank, send the questions to raw GPT-4o, obtain and save the responses"
   ]
  },
  {
   "cell_type": "code",
   "execution_count": 8,
   "metadata": {},
   "outputs": [
    {
     "name": "stdout",
     "output_type": "stream",
     "text": [
      "['JSON_quizzes_only_closed_questions/itembank-2.json', 'JSON_quizzes_only_closed_questions/itembank-3-4.json', 'JSON_quizzes_only_closed_questions/itembank-5-6.json', 'JSON_quizzes_only_closed_questions/itembank-9a.json', 'JSON_quizzes_only_closed_questions/itembank-9b.json']\n"
     ]
    }
   ],
   "source": [
    "LIST_OF_QUIZZES = [\"JSON_quizzes_only_closed_questions/\"+f for f in os.listdir(\"./JSON_quizzes_only_closed_questions\") if f.endswith('.json')]\n",
    "print(LIST_OF_QUIZZES)"
   ]
  },
  {
   "cell_type": "code",
   "execution_count": 9,
   "metadata": {},
   "outputs": [
    {
     "name": "stdout",
     "output_type": "stream",
     "text": [
      "\n",
      "Pass over all the itembanks number 1\n",
      "----------processing itembank-2----------\n",
      "----------processing itembank-3-4----------\n",
      "----------processing itembank-5-6----------\n",
      "----------processing itembank-9a----------\n",
      "----------processing itembank-9b----------\n",
      "Overall correct answers 206 / total questions 395 * 100 = 52.15%\n",
      "\n",
      "\n",
      "Pass over all the itembanks number 2\n",
      "----------processing itembank-2----------\n",
      "----------processing itembank-3-4----------\n",
      "----------processing itembank-5-6----------\n",
      "----------processing itembank-9a----------\n",
      "----------processing itembank-9b----------\n",
      "Overall correct answers 409 / total questions 790 * 100 = 51.77%\n",
      "\n",
      "\n",
      "Pass over all the itembanks number 3\n",
      "----------processing itembank-2----------\n",
      "----------processing itembank-3-4----------\n",
      "----------processing itembank-5-6----------\n",
      "----------processing itembank-9a----------\n",
      "----------processing itembank-9b----------\n",
      "Overall correct answers 613 / total questions 1185 * 100 = 51.73%\n",
      "\n",
      "\n",
      "Pass over all the itembanks number 4\n",
      "----------processing itembank-2----------\n",
      "----------processing itembank-3-4----------\n",
      "----------processing itembank-5-6----------\n",
      "----------processing itembank-9a----------\n",
      "----------processing itembank-9b----------\n",
      "Overall correct answers 823 / total questions 1580 * 100 = 52.09%\n",
      "\n",
      "\n",
      "Pass over all the itembanks number 5\n",
      "----------processing itembank-2----------\n",
      "----------processing itembank-3-4----------\n",
      "----------processing itembank-5-6----------\n",
      "----------processing itembank-9a----------\n",
      "----------processing itembank-9b----------\n",
      "Overall correct answers 1030 / total questions 1975 * 100 = 52.15%\n",
      "\n",
      "\n",
      "Pass over all the itembanks number 6\n",
      "----------processing itembank-2----------\n",
      "----------processing itembank-3-4----------\n",
      "----------processing itembank-5-6----------\n",
      "----------processing itembank-9a----------\n",
      "----------processing itembank-9b----------\n",
      "Overall correct answers 1237 / total questions 2370 * 100 = 52.19%\n",
      "\n",
      "\n",
      "Pass over all the itembanks number 7\n",
      "----------processing itembank-2----------\n",
      "----------processing itembank-3-4----------\n",
      "----------processing itembank-5-6----------\n",
      "----------processing itembank-9a----------\n",
      "----------processing itembank-9b----------\n",
      "Overall correct answers 1447 / total questions 2765 * 100 = 52.33%\n",
      "\n",
      "\n",
      "Pass over all the itembanks number 8\n",
      "----------processing itembank-2----------\n",
      "----------processing itembank-3-4----------\n",
      "----------processing itembank-5-6----------\n",
      "----------processing itembank-9a----------\n",
      "----------processing itembank-9b----------\n",
      "Overall correct answers 1659 / total questions 3160 * 100 = 52.5%\n",
      "\n",
      "\n",
      "Pass over all the itembanks number 9\n",
      "----------processing itembank-2----------\n",
      "----------processing itembank-3-4----------\n",
      "----------processing itembank-5-6----------\n",
      "----------processing itembank-9a----------\n",
      "----------processing itembank-9b----------\n",
      "Overall correct answers 1867 / total questions 3555 * 100 = 52.52%\n",
      "\n",
      "\n",
      "Pass over all the itembanks number 10\n",
      "----------processing itembank-2----------\n",
      "----------processing itembank-3-4----------\n",
      "----------processing itembank-5-6----------\n",
      "----------processing itembank-9a----------\n",
      "----------processing itembank-9b----------\n",
      "Overall correct answers 2073 / total questions 3950 * 100 = 52.48%\n",
      "\n"
     ]
    }
   ],
   "source": [
    "total_nquestions = 0\n",
    "total_ncorrects = 0\n",
    "itembank_reports = [] # to write the itembank number and number of correct answers.\n",
    "\n",
    "itembank_reports.append(f\"Temperature: {temp}\")\n",
    "itembank_reports.append(f\"System message: {system_message}\\n\")\n",
    "\n",
    "for run_n in range(10):\n",
    "    print(f\"\\nPass over all the itembanks number {run_n+1}\")\n",
    "    for doc in LIST_OF_QUIZZES:\n",
    "        with open(doc, 'r', encoding='UTF-8') as file:\n",
    "            questions_JSON = json.load(file)\n",
    "        \n",
    "        itembank_number = re.search(r\"\\d[a|b]?(?:\\-\\d)?\", doc).group()\n",
    "        print(f\"----------processing itembank-{itembank_number}----------\")\n",
    "        \n",
    "        this_ncorrects = 0 # for correct answers in each separate itembank\n",
    "        this_nquestions = 0\n",
    "\n",
    "        # main loop that sends requests and saves answers\n",
    "        for question in questions_JSON:\n",
    "            full_prompt = question['question']+'\\n' + '\\n'.join(question['answers'])\n",
    "            given_answer = pingGPT(full_prompt)  # Get the response from GPT\n",
    "            question[\"GPT's response\"] = given_answer  # Append the response to the question\n",
    "            question[\"correct\"] = given_answer==question[\"correct answer(s)\"] # key 'correct' stores True/False value for the correctness of the answer\n",
    "            \n",
    "            # count how many total responses are correct\n",
    "            if given_answer==question[\"correct answer(s)\"]: \n",
    "                total_ncorrects+=1\n",
    "                this_ncorrects+=1\n",
    "            total_nquestions+=1\n",
    "            this_nquestions+=1\n",
    "        \n",
    "        itembank_reports.append(f\"itembank-{itembank_number}:\\t\\tCorrect answers {this_ncorrects} / total questions {this_nquestions} * 100 = {round(this_ncorrects/this_nquestions*100, 2)}%\")\n",
    "\n",
    "        # Save the updated JSON data to a new file\n",
    "        with open(f'./results/raw_GPT_responses/raw_GPT_responses-{itembank_number}.json', 'w') as outfile:\n",
    "            json.dump(questions_JSON, outfile, indent=2)\n",
    "    itembank_reports.append(\" \")\n",
    "    \n",
    "    print(f\"Overall correct answers {total_ncorrects} / total questions {total_nquestions} * 100 = {round(total_ncorrects/total_nquestions*100, 2)}%\\n\")\n",
    "\n",
    "itembank_reports.append(f\"\\nOverall correct answers {total_ncorrects} / total questions {total_nquestions} * 100 = {round(total_ncorrects/total_nquestions*100, 2)}%\\n\")\n",
    "itembank_reports.append(\"\\n------------------------------------------------------------------------\\n\\n\")\n",
    "\n",
    "# save the prompt and number of correct questions\n",
    "with open(f\"./results/raw_{model}_results.txt\", 'a', encoding='UTF-8') as report_file:\n",
    "    report_file.write('\\n'.join(itembank_reports))"
   ]
  },
  {
   "cell_type": "markdown",
   "metadata": {},
   "source": [
    "### Looking at results of specific itembanks"
   ]
  },
  {
   "cell_type": "markdown",
   "metadata": {},
   "source": [
    "Can see what questions GPT answered incorrectly"
   ]
  },
  {
   "cell_type": "code",
   "execution_count": null,
   "metadata": {},
   "outputs": [],
   "source": [
    "with open(\"results/raw_GPT_responses/raw_GPT_answers-2.json\", 'r', encoding='UTF-8') as file:\n",
    "    questions_to_look_at = json.load(file)\n",
    "\n",
    "\n",
    "ncor = 0\n",
    "ntot = 0\n",
    "for question in questions_to_look_at:\n",
    "    if question[\"correct\"]==False:\n",
    "        print(\"question_number:\", question[\"category\"])\n",
    "        print(question[\"question\"])\n",
    "        print(\"correct:\", question[\"correct answer(s)\"])\n",
    "        print(\"GPT:\", question[\"GPT's response\"], \"\\n\")\n",
    "    else:\n",
    "        ncor+=1\n",
    "    ntot+=1\n",
    "print(f\"Correct {ncor} / total {ntot} = {ncor/ntot}\")\n"
   ]
  }
 ],
 "metadata": {
  "kernelspec": {
   "display_name": "Python 3",
   "language": "python",
   "name": "python3"
  },
  "language_info": {
   "codemirror_mode": {
    "name": "ipython",
    "version": 3
   },
   "file_extension": ".py",
   "mimetype": "text/x-python",
   "name": "python",
   "nbconvert_exporter": "python",
   "pygments_lexer": "ipython3",
   "version": "3.12.8"
  }
 },
 "nbformat": 4,
 "nbformat_minor": 2
}

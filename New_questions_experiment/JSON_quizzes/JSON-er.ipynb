{
 "cells": [
  {
   "cell_type": "code",
   "execution_count": 1,
   "metadata": {},
   "outputs": [],
   "source": [
    "import re\n",
    "import json\n",
    "import os"
   ]
  },
  {
   "cell_type": "code",
   "execution_count": 2,
   "metadata": {},
   "outputs": [
    {
     "name": "stdout",
     "output_type": "stream",
     "text": [
      "['../raw_quizzes/GPT-made_quizzes/filtered/analysis-itembank-sim-2-Ori-laryngeal_contrasts-filtered.txt', '../raw_quizzes/GPT-made_quizzes/filtered/analysis-itembank-sim-3-Sziget-vowels-filtered.txt', '../raw_quizzes/GPT-made_quizzes/filtered/analysis-itembank-sim-4-Sziget-vowels_and_stress-filtered.txt', '../raw_quizzes/GPT-made_quizzes/filtered/analysis-itembank-sim-5-Kiss-phrasal_stress_and_intonation-filtered.txt', '../raw_quizzes/GPT-made_quizzes/filtered/analysis-itembank-sim-9-Attila-variation-filtered.txt']\n",
      "5\n"
     ]
    }
   ],
   "source": [
    "LIST_OF_DOCS = [\"../raw_quizzes/GPT-made_quizzes/filtered/\"+f for f in os.listdir(\"../raw_quizzes/GPT-made_quizzes/filtered\") if f.endswith('.txt')]\n",
    "\n",
    "print(LIST_OF_DOCS)\n",
    "print(len(LIST_OF_DOCS))"
   ]
  },
  {
   "cell_type": "code",
   "execution_count": 3,
   "metadata": {},
   "outputs": [],
   "source": [
    "for doc in LIST_OF_DOCS:\n",
    "    with open(doc, 'r', encoding='utf-8') as file:\n",
    "        content = file.read().strip()\n",
    "    itembank_number = re.search(r\"\\d[a|b]?(?:\\-\\d)?\", doc).group()\n",
    "\n",
    "    # Split the content into blocks using '== cat' as a separator\n",
    "    blocks = re.split(r'\\n== cat ', content)\n",
    "    data = []\n",
    "\n",
    "    # Process each block\n",
    "    for block in blocks:        \n",
    "        lines = block.split('\\n')\n",
    "\n",
    "        question_lines = []\n",
    "        answer_lines_raw = [] # still with hashtags\n",
    "        answer_lines = [] # with letters\n",
    "        option_labels = ['a)', 'b)', 'c)', 'd)']\n",
    "\n",
    "        category = lines[0].strip().replace(\"== cat \", \"\") # deal with categories, replacement necessary for q1\n",
    "        question = \"\"\n",
    "        correct_answer = \"\"\n",
    "\n",
    "        for line in lines:\n",
    "            if re.search(r\"\\[\\[.+\\]\\]\", line): # the open questions\n",
    "                question = line\n",
    "                correct_answers = re.findall(r\"\\[?\\[\\[(.*?)\\]\\]\\]?\", line)\n",
    "                question = re.sub(r\"\\[?\\[\\[.*?\\]\\]\\]?$\", \"\", line.strip()) # if the [[]] are at the end, then they turn into nothing\n",
    "                question = re.sub(r\"\\[?\\[\\[.*?\\]\\]\\]?\", \"...\", question) # somewhere in the middle they turn into three dots\n",
    "                question = re.sub(r\"\\.\\.\\.\\.\", \"...\", question.strip()) # 4 dots turn into three\n",
    "                correct_answer = \"|||\".join(correct_answers)\n",
    "            elif re.match(r\"^[A-Z]\", line): # if starts with a capital letter, then it's a question\n",
    "                question = line.strip()\n",
    "            elif re.match(r\"^#\", line): # if starts with a # then it's an answer\n",
    "                answer_lines_raw.append(line.strip())\n",
    "        \n",
    "        for idx, answer_line in enumerate(answer_lines_raw):\n",
    "            # Check if the answer is marked as correct\n",
    "            if answer_line.startswith('# !'):\n",
    "                is_correct = True\n",
    "                answer_text = answer_line[3:].strip() # Remove the '# !' prefix\n",
    "            else:\n",
    "                is_correct = False\n",
    "                answer_text = answer_line[2:].strip() # Remove the '#' prefix\n",
    "            \n",
    "            # Assign a letter to the option\n",
    "            option_label = option_labels[idx]\n",
    "            option_entry = f\"{option_label} {answer_text}\"\n",
    "            answer_lines.append(option_entry)\n",
    "            \n",
    "            # Collect the correct answer(s)\n",
    "            if is_correct:\n",
    "                correct_answer = option_entry\n",
    "                answer_text = \"\"\n",
    "\n",
    "\n",
    "\n",
    "        item = {\n",
    "        'question': question,\n",
    "        'category': category,\n",
    "        'answers': answer_lines,\n",
    "        'correct answer(s)': correct_answer\n",
    "        }\n",
    "\n",
    "        data.append(item)\n",
    "\n",
    "\n",
    "    # Output the data to a JSON file\n",
    "    with open(f\"itembank-{itembank_number}.json\", 'w', encoding='utf-8') as f_out:\n",
    "        json.dump(data, f_out, ensure_ascii=False, indent=2)"
   ]
  }
 ],
 "metadata": {
  "kernelspec": {
   "display_name": "Python 3",
   "language": "python",
   "name": "python3"
  },
  "language_info": {
   "codemirror_mode": {
    "name": "ipython",
    "version": 3
   },
   "file_extension": ".py",
   "mimetype": "text/x-python",
   "name": "python",
   "nbconvert_exporter": "python",
   "pygments_lexer": "ipython3",
   "version": "3.12.8"
  }
 },
 "nbformat": 4,
 "nbformat_minor": 2
}

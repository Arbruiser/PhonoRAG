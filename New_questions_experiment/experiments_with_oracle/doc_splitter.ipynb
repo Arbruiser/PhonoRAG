{
 "cells": [
  {
   "cell_type": "code",
   "execution_count": 2,
   "metadata": {},
   "outputs": [],
   "source": [
    "import os\n",
    "import re\n",
    "\n",
    "import PyPDF2"
   ]
  },
  {
   "cell_type": "code",
   "execution_count": 3,
   "metadata": {},
   "outputs": [
    {
     "name": "stdout",
     "output_type": "stream",
     "text": [
      "['./raw_texts_split_manually/txts_before_splitting/2-settext.txt', './raw_texts_split_manually/txts_before_splitting/3-settext.txt', './raw_texts_split_manually/txts_before_splitting/4-settext.txt', './raw_texts_split_manually/txts_before_splitting/5-settext.txt', './raw_texts_split_manually/txts_before_splitting/9-settext.txt']\n"
     ]
    }
   ],
   "source": [
    "LIST_OF_DOCS = [\"./raw_texts_split_manually/txts_before_splitting/\"+f for f in os.listdir(\"./raw_texts_split_manually/txts_before_splitting/\")]\n",
    "\n",
    "print(LIST_OF_DOCS)"
   ]
  },
  {
   "cell_type": "code",
   "execution_count": 5,
   "metadata": {},
   "outputs": [],
   "source": [
    "for text_path in LIST_OF_DOCS:\n",
    "    with open(text_path, 'r', encoding=\"UTF-8\") as file:\n",
    "        text = file.read()  # Read the entire file\n",
    "\n",
    "        text_number = re.search(r\"\\d\", text_path).group()\n",
    "\n",
    "        split_text = text.split(\"^^^\")\n",
    "       \n",
    "        for i, extract in enumerate(split_text): \n",
    "            with open(f'./raw_texts_split_manually/settext-{text_number}-{i}.txt', 'w', encoding='utf-8') as text_file:\n",
    "                text_file.write(extract)"
   ]
  }
 ],
 "metadata": {
  "kernelspec": {
   "display_name": "Python 3",
   "language": "python",
   "name": "python3"
  },
  "language_info": {
   "codemirror_mode": {
    "name": "ipython",
    "version": 3
   },
   "file_extension": ".py",
   "mimetype": "text/x-python",
   "name": "python",
   "nbconvert_exporter": "python",
   "pygments_lexer": "ipython3",
   "version": "3.12.8"
  }
 },
 "nbformat": 4,
 "nbformat_minor": 2
}

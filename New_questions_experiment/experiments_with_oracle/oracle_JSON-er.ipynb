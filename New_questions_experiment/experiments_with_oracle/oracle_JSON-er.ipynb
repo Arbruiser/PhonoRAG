{
 "cells": [
  {
   "cell_type": "code",
   "execution_count": 7,
   "metadata": {},
   "outputs": [],
   "source": [
    "import re\n",
    "import json\n",
    "import os"
   ]
  },
  {
   "cell_type": "code",
   "execution_count": 8,
   "metadata": {},
   "outputs": [
    {
     "name": "stdout",
     "output_type": "stream",
     "text": [
      "['./raw_oracles/Oracle_itembank-2.txt', './raw_oracles/Oracle_itembank-3.txt', './raw_oracles/Oracle_itembank-4.txt', './raw_oracles/Oracle_itembank-5.txt', './raw_oracles/Oracle_itembank-9.txt']\n"
     ]
    }
   ],
   "source": [
    "LIST_OF_ORACLES = [\"./raw_oracles/\"+f for f in os.listdir(\"./raw_oracles/\") if f.endswith('.txt')]\n",
    "print(LIST_OF_ORACLES)"
   ]
  },
  {
   "cell_type": "code",
   "execution_count": 9,
   "metadata": {},
   "outputs": [],
   "source": [
    "for doc in LIST_OF_ORACLES:\n",
    "    with open(doc, 'r', encoding='utf-8') as file:\n",
    "        oracle_txt = file.read().strip()\n",
    "\n",
    "    itembank_number = re.search(r\"\\d[a|b]?(?:\\-\\d)?\", doc).group()\n",
    "\n",
    "    # Split the content into blocks using '\"\"\"'\n",
    "    oracle_blocks = re.split(r'\\n\"\"\"', oracle_txt)\n",
    "    oracle_blocks = [block.strip() for block in oracle_blocks]\n",
    "\n",
    "    data = []\n",
    "\n",
    "    for block in oracle_blocks:\n",
    "        # Each block consists of a text chunk followed by questions\n",
    "        parts = [s.strip() for s in re.split(r'==', block)]\n",
    "        \n",
    "        # assuming the first part is always the text chunk and others are questions\n",
    "        correct_text_chunk = parts[0].rstrip('\"\"\"')\n",
    "        questions = parts[1:]\n",
    "\n",
    "        for question_block in questions:\n",
    "            lines = question_block.split('\\n')\n",
    "            \n",
    "            question_lines = []\n",
    "            answer_lines_raw = []  # still with hashtags\n",
    "            answer_lines = []  # with letters\n",
    "            option_labels = ['a)', 'b)', 'c)', 'd)']\n",
    "\n",
    "            # Extract category, question, and correct answer info\n",
    "            category = lines[0].strip()\n",
    "            question = \"\"\n",
    "            correct_answer = \"\"\n",
    "\n",
    "            for line in lines:\n",
    "                if re.match(r\"^[A-Z]\", line):  # Starts with a capital letter\n",
    "                    question = line.strip()\n",
    "                elif re.match(r\"^#\", line):  # Answer lines start with #\n",
    "                    answer_lines_raw.append(line.strip())\n",
    "\n",
    "            for idx, answer_line in enumerate(answer_lines_raw):\n",
    "                # Check if the answer is marked as correct\n",
    "                if answer_line.startswith('# !'):\n",
    "                    is_correct = True\n",
    "                    answer_text = answer_line[3:].strip()  # Remove the '# !' prefix\n",
    "                else:\n",
    "                    is_correct = False\n",
    "                    answer_text = answer_line[2:].strip()  # Remove the '#' prefix\n",
    "\n",
    "                # Assign a letter to the option\n",
    "                option_label = option_labels[idx]\n",
    "                option_entry = f\"{option_label} {answer_text}\"\n",
    "                answer_lines.append(option_entry)\n",
    "\n",
    "                # Collect the correct answer(s)\n",
    "                if is_correct:\n",
    "                    correct_answer = option_entry\n",
    "            \n",
    "            # Construct the item\n",
    "            item = {\n",
    "                'correct_text_chunk': correct_text_chunk,\n",
    "                'question': question,\n",
    "                'category': category,\n",
    "                'answers': answer_lines,\n",
    "                'correct answer(s)': correct_answer\n",
    "            }\n",
    "            \n",
    "            data.append(item)\n",
    "\n",
    "    # Output the data to a JSON file\n",
    "    with open(f\"./JSON_oracles/oracle-itembank-{itembank_number}.json\", 'w', encoding='utf-8') as f_out:\n",
    "        json.dump(data, f_out, ensure_ascii=False, indent=2)"
   ]
  }
 ],
 "metadata": {
  "kernelspec": {
   "display_name": "Python 3",
   "language": "python",
   "name": "python3"
  },
  "language_info": {
   "codemirror_mode": {
    "name": "ipython",
    "version": 3
   },
   "file_extension": ".py",
   "mimetype": "text/x-python",
   "name": "python",
   "nbconvert_exporter": "python",
   "pygments_lexer": "ipython3",
   "version": "3.12.8"
  }
 },
 "nbformat": 4,
 "nbformat_minor": 2
}

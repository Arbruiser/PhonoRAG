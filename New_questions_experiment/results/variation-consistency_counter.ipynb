{
 "cells": [
  {
   "cell_type": "code",
   "execution_count": 11,
   "metadata": {},
   "outputs": [],
   "source": [
    "import re\n",
    "from collections import defaultdict\n",
    "import json\n",
    "\n",
    "with open(\"10_variation_runs_gpt-4o.txt\", \"r\", encoding=\"UTF-8\") as f:\n",
    "    res_4o = f.readlines()\n",
    "    res_4o = [line for line in res_4o if line.startswith(\"itembank-\") or line.startswith(\"original\")]\n",
    "\n",
    "with open(\"10_variation_runs_gpt-4o-mini.txt\", \"r\", encoding=\"UTF-8\") as f:\n",
    "    res_4o_mini = f.readlines()\n",
    "    res_4o_mini = [line for line in res_4o_mini if line.startswith(\"itembank-\") or line.startswith(\"original\")]"
   ]
  },
  {
   "cell_type": "code",
   "execution_count": null,
   "metadata": {},
   "outputs": [],
   "source": [
    "def measure_consistency(results):\n",
    "\n",
    "    report = {}\n",
    "    analysis = {}\n",
    "\n",
    "    for line in results:\n",
    "        itembank_number_type = re.search(r\"(original)?-\\d[_:ab](\\w+)?\", line).group()\n",
    "        correct_answers = re.search(r\"\\s(\\d+)\\s\\/\", line).group(1)\n",
    "\n",
    "        #print(itembank_number_type, \"====\", correct_answers)\n",
    "        \n",
    "        report.setdefault(itembank_number_type, []).append(correct_answers)\n",
    "    \n",
    "    # Determine the length of the lists\n",
    "    list_length = len(next(iter(report.values())))\n",
    "    overall = []\n",
    "\n",
    "    # Iterate over each index position\n",
    "    for i in range(list_length):\n",
    "        # Initialize the sum for the current index position\n",
    "        element_sum = 0\n",
    "        # Sum the ith element from each list in the dictionary\n",
    "        for key, value_list in report.items():\n",
    "            element_sum += int(value_list[i])\n",
    "        # Append the sum to the `overall` list\n",
    "        overall.append(str(element_sum))\n",
    "\n",
    "    # Add the 'overall' key to the dictionary with the computed sums\n",
    "    report['overall'] = overall\n",
    "\n",
    "\n",
    "    for key, values in report.items():\n",
    "        # Convert strings to integers\n",
    "        numeric_value = [int(value) for value in values]\n",
    "        \n",
    "        # Calculate statistics\n",
    "        average = sum(numeric_value) / len(numeric_value)\n",
    "        maximum = max(numeric_value)\n",
    "        minimum = min(numeric_value)\n",
    "        maxmin = maximum - minimum\n",
    "        \n",
    "        # Store the results in a dictionary\n",
    "        analysis[key] = {\n",
    "            'average': round(average, 2),\n",
    "            'max': maximum,\n",
    "            'min': minimum,\n",
    "            'max-min': maxmin,\n",
    "            \n",
    "        }\n",
    "    print(report)\n",
    "    return analysis"
   ]
  },
  {
   "cell_type": "code",
   "execution_count": 15,
   "metadata": {},
   "outputs": [
    {
     "name": "stdout",
     "output_type": "stream",
     "text": [
      "{'original-2:': ['65', '68', '63', '65', '64', '66', '67', '66', '67', '67'], '-4:': ['11', '10', '11', '10', '11', '10', '10', '11', '10', '10'], '-6:': ['44', '47', '46', '47', '47', '46', '45', '48', '48', '48'], 'original-9a': ['14', '13', '15', '13', '13', '14', '15', '12', '15', '13'], 'original-9b': ['29', '27', '28', '29', '29', '29', '31', '30', '27', '31'], '-2_GPT': ['40', '40', '41', '41', '40', '40', '39', '40', '39', '39'], '-3_GPT': ['34', '34', '34', '34', '34', '34', '34', '32', '34', '33'], '-4_GPT': ['28', '28', '28', '29', '28', '29', '28', '28', '28', '28'], '-5_GPT': ['42', '42', '43', '42', '43', '43', '41', '43', '42', '43'], '-9_GPT': ['23', '23', '24', '23', '24', '23', '23', '24', '24', '24'], '-2_own_questions': ['33', '34', '34', '33', '34', '33', '33', '34', '33', '34'], '-3_own_questions': ['30', '30', '29', '30', '29', '30', '29', '29', '29', '30'], '-4_own_questions': ['37', '36', '36', '37', '36', '35', '36', '35', '34', '35'], '-5_own_questions': ['29', '30', '29', '30', '30', '30', '29', '31', '29', '29'], '-9_own_questions': ['35', '36', '36', '36', '36', '35', '36', '36', '36', '36'], 'overall': ['494', '498', '497', '499', '498', '497', '496', '499', '495', '500']}\n",
      "{'original-2:': ['85', '83', '79', '86', '80', '81', '86', '85', '82', '81'], '-4:': ['16', '17', '17', '15', '17', '17', '17', '16', '17', '16'], '-6:': ['50', '47', '48', '51', '50', '51', '48', '50', '51', '51'], 'original-9a': ['13', '14', '14', '15', '15', '15', '16', '16', '14', '16'], 'original-9b': ['42', '42', '46', '43', '45', '43', '43', '45', '44', '42'], '-2_GPT': ['39', '39', '38', '41', '39', '38', '40', '38', '39', '40'], '-3_GPT': ['35', '35', '35', '35', '34', '35', '34', '35', '33', '36'], '-4_GPT': ['27', '28', '27', '28', '27', '28', '27', '27', '26', '29'], '-5_GPT': ['44', '44', '45', '45', '44', '45', '44', '44', '45', '44'], '-9_GPT': ['24', '24', '24', '24', '24', '23', '23', '24', '23', '23'], '-2_own_questions': ['45', '45', '45', '45', '45', '45', '45', '45', '45', '45'], '-3_own_questions': ['46', '47', '49', '46', '46', '46', '47', '47', '47', '46'], '-4_own_questions': ['46', '46', '46', '45', '46', '46', '45', '45', '46', '46'], '-5_own_questions': ['39', '38', '40', '37', '38', '39', '36', '37', '38', '37'], '-9_own_questions': ['43', '43', '42', '42', '43', '43', '43', '43', '43', '43'], 'overall': ['594', '592', '595', '598', '593', '595', '594', '597', '593', '595']}\n"
     ]
    }
   ],
   "source": [
    "with open(f\"./variability_raw_GPT-4o-mini_stats.json\", 'w', encoding='UTF-8') as report_file:\n",
    "    json.dump(measure_consistency(res_4o_mini), report_file, indent=2)\n",
    "    \n",
    "with open(f\"./variability_raw_GPT-4o_stats.json\", 'w', encoding='UTF-8') as report_file:\n",
    "    json.dump(measure_consistency(res_4o), report_file, indent=2)"
   ]
  },
  {
   "cell_type": "code",
   "execution_count": null,
   "metadata": {},
   "outputs": [
    {
     "name": "stdout",
     "output_type": "stream",
     "text": [
      "{'original-2:': ['85', '83', '79', '86', '80', '81', '86', '85', '82', '81'], '-4:': ['16', '17', '17', '15', '17', '17', '17', '16', '17', '16'], '-6:': ['50', '47', '48', '51', '50', '51', '48', '50', '51', '51'], 'original-9a': ['13', '14', '14', '15', '15', '15', '16', '16', '14', '16'], 'original-9b': ['42', '42', '46', '43', '45', '43', '43', '45', '44', '42'], '-2_GPT': ['39', '39', '38', '41', '39', '38', '40', '38', '39', '40'], '-3_GPT': ['35', '35', '35', '35', '34', '35', '34', '35', '33', '36'], '-4_GPT': ['27', '28', '27', '28', '27', '28', '27', '27', '26', '29'], '-5_GPT': ['44', '44', '45', '45', '44', '45', '44', '44', '45', '44'], '-9_GPT': ['24', '24', '24', '24', '24', '23', '23', '24', '23', '23'], '-2_own_questions': ['45', '45', '45', '45', '45', '45', '45', '45', '45', '45'], '-3_own_questions': ['46', '47', '49', '46', '46', '46', '47', '47', '47', '46'], '-4_own_questions': ['46', '46', '46', '45', '46', '46', '45', '45', '46', '46'], '-5_own_questions': ['39', '38', '40', '37', '38', '39', '36', '37', '38', '37'], '-9_own_questions': ['43', '43', '42', '42', '43', '43', '43', '43', '43', '43'], 'overall': ['594', '592', '595', '598', '593', '595', '594', '597', '593', '595']}\n"
     ]
    },
    {
     "data": {
      "text/plain": [
       "{'original-2:': {'average': 82.8, 'max': 86, 'min': 79, 'variation': 7},\n",
       " '-4:': {'average': 16.5, 'max': 17, 'min': 15, 'variation': 2},\n",
       " '-6:': {'average': 49.7, 'max': 51, 'min': 47, 'variation': 4},\n",
       " 'original-9a': {'average': 14.8, 'max': 16, 'min': 13, 'variation': 3},\n",
       " 'original-9b': {'average': 43.5, 'max': 46, 'min': 42, 'variation': 4},\n",
       " '-2_GPT': {'average': 39.1, 'max': 41, 'min': 38, 'variation': 3},\n",
       " '-3_GPT': {'average': 34.7, 'max': 36, 'min': 33, 'variation': 3},\n",
       " '-4_GPT': {'average': 27.4, 'max': 29, 'min': 26, 'variation': 3},\n",
       " '-5_GPT': {'average': 44.4, 'max': 45, 'min': 44, 'variation': 1},\n",
       " '-9_GPT': {'average': 23.6, 'max': 24, 'min': 23, 'variation': 1},\n",
       " '-2_own_questions': {'average': 45.0, 'max': 45, 'min': 45, 'variation': 0},\n",
       " '-3_own_questions': {'average': 46.7, 'max': 49, 'min': 46, 'variation': 3},\n",
       " '-4_own_questions': {'average': 45.7, 'max': 46, 'min': 45, 'variation': 1},\n",
       " '-5_own_questions': {'average': 37.9, 'max': 40, 'min': 36, 'variation': 4},\n",
       " '-9_own_questions': {'average': 42.8, 'max': 43, 'min': 42, 'variation': 1},\n",
       " 'overall': {'average': 594.6, 'max': 598, 'min': 592, 'variation': 6}}"
      ]
     },
     "execution_count": 8,
     "metadata": {},
     "output_type": "execute_result"
    }
   ],
   "source": [
    "measure_consistency(res_4o)"
   ]
  }
 ],
 "metadata": {
  "kernelspec": {
   "display_name": "Python 3",
   "language": "python",
   "name": "python3"
  },
  "language_info": {
   "codemirror_mode": {
    "name": "ipython",
    "version": 3
   },
   "file_extension": ".py",
   "mimetype": "text/x-python",
   "name": "python",
   "nbconvert_exporter": "python",
   "pygments_lexer": "ipython3",
   "version": "3.12.8"
  }
 },
 "nbformat": 4,
 "nbformat_minor": 2
}
